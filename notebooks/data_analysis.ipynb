{
 "cells": [
  {
   "cell_type": "code",
   "execution_count": 1,
   "metadata": {},
   "outputs": [],
   "source": [
    "import pandas as pd\n",
    "from pathlib import Path\n",
    "import pickle"
   ]
  },
  {
   "cell_type": "code",
   "execution_count": 2,
   "metadata": {},
   "outputs": [
    {
     "name": "stdout",
     "output_type": "stream",
     "text": [
      "align\t\t  asr\t\t\t  logs\t    punk_asr.tar  segments_asr\n",
      "all-texts.pickle  create_dataset_scripts  punk_asr  python_logs   slurm_logs\n"
     ]
    }
   ],
   "source": [
    "!ls /lnet/express/work/people/stankov/alignment/new-parczech/baseline/"
   ]
  },
  {
   "cell_type": "code",
   "execution_count": 3,
   "metadata": {},
   "outputs": [
    {
     "name": "stdout",
     "output_type": "stream",
     "text": [
      "2013112513581412.feather\n",
      "2013112514081422.feather\n",
      "2013112514181432.feather\n",
      "2013112514281442.feather\n",
      "2013112514381452.feather\n",
      "2013112514481502.feather\n",
      "2013112709581012.feather\n",
      "2013112710081022.feather\n",
      "2013112711581212.feather\n",
      "2013112712081222.feather\n",
      "ls: write error: Broken pipe\n"
     ]
    }
   ],
   "source": [
    "!ls /lnet/express/work/people/stankov/alignment/new-parczech/baseline/align | head"
   ]
  },
  {
   "cell_type": "code",
   "execution_count": 4,
   "metadata": {},
   "outputs": [],
   "source": [
    "with open('/lnet/express/work/people/stankov/alignment/new-parczech/baseline/all-texts.pickle', 'rb') as f:\n",
    "    unique_symbols = []\n",
    "    for k, v in pickle.load(f).items():\n",
    "        unique_symbols.extend(list(set(v)))\n",
    "\n",
    "unique_symbols = list(sorted(list(set(unique_symbols))))"
   ]
  },
  {
   "cell_type": "code",
   "execution_count": 5,
   "metadata": {},
   "outputs": [
    {
     "name": "stdout",
     "output_type": "stream",
     "text": [
      "  ! \" % & ' ( ) * + , - . / 0 1 2 3 4 5\n",
      "6 7 8 9 : ; = ? @ A B C D E F G H I J K\n",
      "L M N O P Q R S T U V W X Y Z \\ a b c d\n",
      "e f g h i j k l m n o p q r s t u v w x\n",
      "y z | § ¨ ° ´ · Á É Í Ó Ú Ü Ý ß à á ä ç\n",
      "è é ê ë í ó ô ö ú ü ý Ą Ć ć Č č Ď ď Ě ě\n",
      "ĺ Ľ ľ ł ń Ň ň Ř ř Š š Ť ť Ů ů Ž ž ‎ ’ …\n"
     ]
    }
   ],
   "source": [
    "for i in range(0, len(unique_symbols), 20):\n",
    "    print(' '.join(unique_symbols[i:i+20]))"
   ]
  },
  {
   "cell_type": "code",
   "execution_count": 6,
   "metadata": {},
   "outputs": [],
   "source": [
    "symbols = \"\".join(\"\\\" % & ' ( ) * + - / = @ \\\\ | § ¨ ° ´ ·  ‎ ’ … 0 1 2 3 4 5 6 7 8 9\".split())"
   ]
  },
  {
   "cell_type": "code",
   "execution_count": 7,
   "metadata": {},
   "outputs": [],
   "source": [
    "\n",
    "with open('/lnet/express/work/people/stankov/alignment/new-parczech/baseline/all-texts.pickle', 'rb') as f:\n",
    "    texts_with_numbers = {}\n",
    "    for k, v in pickle.load(f).items():\n",
    "        if any(char in symbols for char in v[:100]):\n",
    "            texts_with_numbers[k] = v    \n"
   ]
  },
  {
   "cell_type": "code",
   "execution_count": 8,
   "metadata": {},
   "outputs": [
    {
     "name": "stdout",
     "output_type": "stream",
     "text": [
      "2020122214181432.feather Dobré odpoledne, vážené kolegyně, vážení kolegové. Budeme pokračovat v programu. Dalším bodem je 2. \n",
      "2016030317081722.feather Z jednání rady Jihomoravského kraje ze dne 25. 2. vyplývá, že na opravy silnic Jihomoravského kraje \n",
      "2020102716381652.feather Dalším bodem našeho jednání je bod číslo 348. Návrh na přijetí Dodatkového protokolu mezi vládou Fra\n",
      "2019052813581412.feather Vážené paní poslankyně, vážení páni poslanci, vážení členové vlády, zahajuji 30. schůzi Poslanecké s\n",
      "2016030916181632.feather Já jsem předpokládal, že vláda pro rok 2017 minimálně využije těch 100 korun, které jsme pro tento r\n",
      "2019102309080922.feather Celkové výdaje státního rozpočtu byly čerpány na 101, 8 % z rozpočtu po změnách. Jejich překročení o\n",
      "2018022814281442.feather Vážené paní poslankyně, vážení páni poslanci, je 14.30 hodin, zahajuji odpolední jednání dnešního je\n",
      "2019092417081722.feather Co tím chci říci? To, že voliči si přejí- přejí- abych byl jejich zástupce v Poslanecké sněmovně. A \n",
      "2020122216381652.feather Ona hovoří o tom, že by se neměli očkovat ti, kteří to aktuálně prodělali. Vyjádření ministra- tak v\n",
      "2020060420082022.feather Usnesení druhé:\" Poslanecká sněmovna apeluje na vládu, aby vůči občanům uplatňovala zodpovědnou poli\n",
      "2016012812081222.feather Děkuji za slovo, pane místopředsedo. Já osvědčuji, že ústavněprávní výbor na své 50. schůzi dne 14. \n",
      "2015021112281242.feather Já vám děkuji. Než budeme pokračovat, tak přečtu omluvenky, které ke mně dorazily. Dnes od 14.30 do \n",
      "2016012211381152.feather Nejdřív jsem si říkal, proč tento posudek pan ministr schovává, proč nám nepředloží něco, co za 200 \n",
      "2015040811081122.feather Za třetí jsou to stropy na odvody na důchodové pojištění. Pokus máme číslo 2, snažit se tyto stropy \n",
      "2020102719482002.feather Já se tímto hlásím ke dvěma pozměňovacím návrhům. První je veden pod č. 6633 a řeší zrušení superhru\n",
      "2015040212381252.feather Má identifikovaného téměř pachatele, který prokazatelně velká zvířata trápí- týká se to zejména skot\n",
      "2020052814281442.feather Je 14.30, vážené paní poslankyně, vážení páni poslanci, vážení členové vlády, vážený pane premiére, \n",
      "2018041716381652.feather Je 16.45 hodin, takže přestávka končí. Poprosím všechny, aby se uklidnili a věnovali pozornost, bude\n",
      "2018030711081122.feather Návrh dále stanovuje lhůtu na získání osvědčení jeden rok- § 4 odst. 3 čl. 2 návrhu. Ale § 117 odst.\n",
      "2020091709481002.feather Obecně. Prvního ledna 2013- a byl ministrem financí zde zrovna nesedící předseda poslaneckého klubu \n",
      "2020061614481502.feather Děkuji, pane předsedo. Já bych chtěla říct, že vláda se rozhodla k tomuto kroku- poskytnout příspěve\n",
      "2015121618381852.feather Včera jsme to počítali a těch několik set tisíc A 4 papírů je v podstatě velký panelový dům do nějak\n",
      "2014043009280942.feather Děkuji panu zpravodaji. Rozhodneme o tom v hlasování pořadové číslo 34, které jsem zahájil a ptám se\n",
      "2018061216381652.feather Doprovodné usnesení zní:\" Poslanecká sněmovna konstatuje, že se dětské skupiny dle zákona č. 247 / 2\n",
      "2016102514281442.feather Pan poslanec Plíšek si přeje tisk 853, což je novela zákona o advokacii, zařadit na středu 9. 11. 20\n",
      "2015110516381652.feather 5. V § 3 a návrhu v nově označovaném odst. 1. se pod. písm. c) se slova\" způsob spolupráce při jejic\n",
      "2018091408580912.feather Vážené paní poslankyně, vážení páni poslanci, vážení členové vlády, zahajuji čtvrtý jednací den 19. \n",
      "2015052714281442.feather Vážené paní poslankyně, vážení páni poslanci, vážení členové vlády, zahajuji odpolední jednání 27. s\n",
      "2016042211581212.feather Paragraf 8 a 9- Obecní úřady s rozšířenou působností. Tady není jasné, pane ministře, zda statutární\n",
      "2019092414481502.feather Evropská komise požádala 16. července 2019 Evropskou agenturu pro chemické látky, tzv. agenturu ECHA\n",
      "2015091717581812.feather Vážené dámy, vážení pánové, je 18 hodin a budeme tedy pokračovat pevně zařazeným bodem. To je bod čí\n",
      "2015052012081222.feather Prostě máme stejný informační zdroj a cíl byl naprosto stejný a podle mě legitimní- k 1. 7. zajistit\n"
     ]
    }
   ],
   "source": [
    "for i, (k, v) in enumerate(texts_with_numbers.items()):\n",
    "    print(k, v[:100])\n",
    "    if i > 30:\n",
    "        break"
   ]
  },
  {
   "cell_type": "code",
   "execution_count": 1,
   "metadata": {},
   "outputs": [
    {
     "name": "stdout",
     "output_type": "stream",
     "text": [
      "Ale § 117 odst . 1 c a § 118 odst . 3 a 4 zákona o ochraně utajovaných informací a o bezpečnostní způsobilosti umožňují , aby řízení o vydání osvědčení trvalo i delší dobu než jeden rok .\n"
     ]
    }
   ],
   "source": [
    "!cat /lnet/express/work/people/stankov/alignment/results/full/RELEASE-LAYOUT/parczech-3.0-asr-other/2018030711081122/01/2018030711081122.prt"
   ]
  },
  {
   "cell_type": "code",
   "execution_count": 26,
   "metadata": {},
   "outputs": [
    {
     "name": "stdout",
     "output_type": "stream",
     "text": [
      "align\t\t  asr\t\t\t  logs\t    punk_asr.tar  segments_asr\n",
      "all-texts.pickle  create_dataset_scripts  punk_asr  python_logs   slurm_logs\n"
     ]
    }
   ],
   "source": [
    "!ls /lnet/express/work/people/stankov/alignment/new-parczech/baseline/"
   ]
  },
  {
   "cell_type": "code",
   "execution_count": 33,
   "metadata": {},
   "outputs": [
    {
     "data": {
      "text/html": [
       "<div>\n",
       "<style scoped>\n",
       "    .dataframe tbody tr th:only-of-type {\n",
       "        vertical-align: middle;\n",
       "    }\n",
       "\n",
       "    .dataframe tbody tr th {\n",
       "        vertical-align: top;\n",
       "    }\n",
       "\n",
       "    .dataframe thead th {\n",
       "        text-align: right;\n",
       "    }\n",
       "</style>\n",
       "<table border=\"1\" class=\"dataframe\">\n",
       "  <thead>\n",
       "    <tr style=\"text-align: right;\">\n",
       "      <th></th>\n",
       "      <th>0.11</th>\n",
       "      <th>0.49</th>\n",
       "      <th>a</th>\n",
       "      <th>jenom</th>\n",
       "      <th>1</th>\n",
       "      <th>-1.000000</th>\n",
       "    </tr>\n",
       "  </thead>\n",
       "  <tbody>\n",
       "    <tr>\n",
       "      <th>0</th>\n",
       "      <td>0.50</td>\n",
       "      <td>0.92</td>\n",
       "      <td>tedy</td>\n",
       "      <td>jenom</td>\n",
       "      <td>1</td>\n",
       "      <td>0.200000</td>\n",
       "    </tr>\n",
       "    <tr>\n",
       "      <th>1</th>\n",
       "      <td>0.93</td>\n",
       "      <td>1.16</td>\n",
       "      <td>pan</td>\n",
       "      <td>jenom</td>\n",
       "      <td>1</td>\n",
       "      <td>0.250000</td>\n",
       "    </tr>\n",
       "    <tr>\n",
       "      <th>2</th>\n",
       "      <td>1.17</td>\n",
       "      <td>1.59</td>\n",
       "      <td>voleného</td>\n",
       "      <td>chci</td>\n",
       "      <td>2</td>\n",
       "      <td>0.222222</td>\n",
       "    </tr>\n",
       "    <tr>\n",
       "      <th>3</th>\n",
       "      <td>1.60</td>\n",
       "      <td>2.26</td>\n",
       "      <td>zástupce</td>\n",
       "      <td>říci</td>\n",
       "      <td>3</td>\n",
       "      <td>0.222222</td>\n",
       "    </tr>\n",
       "    <tr>\n",
       "      <th>4</th>\n",
       "      <td>2.27</td>\n",
       "      <td>2.36</td>\n",
       "      <td>to</td>\n",
       "      <td>že</td>\n",
       "      <td>4</td>\n",
       "      <td>0.333333</td>\n",
       "    </tr>\n",
       "  </tbody>\n",
       "</table>\n",
       "</div>"
      ],
      "text/plain": [
       "   0.11  0.49         a  jenom  1  -1.000000\n",
       "0  0.50  0.92      tedy  jenom  1   0.200000\n",
       "1  0.93  1.16       pan  jenom  1   0.250000\n",
       "2  1.17  1.59  voleného   chci  2   0.222222\n",
       "3  1.60  2.26  zástupce   říci  3   0.222222\n",
       "4  2.27  2.36        to     že  4   0.333333"
      ]
     },
     "execution_count": 33,
     "metadata": {},
     "output_type": "execute_result"
    }
   ],
   "source": [
    "df = pd.read_csv('/lnet/express/work/people/stankov/alignment/results/full/time-extracted/jan/2021032511081122.tsv', sep='\\t')\n",
    "df.head()"
   ]
  },
  {
   "cell_type": "code",
   "execution_count": 38,
   "metadata": {},
   "outputs": [
    {
     "name": "stdout",
     "output_type": "stream",
     "text": [
      "2018012410381052.asr  2018012410381052.speakers  2018012410381052.words\n",
      "2018012410381052.prt  2018012410381052.wav\t stats.tsv\n"
     ]
    }
   ],
   "source": [
    "!ls /lnet/express/work/people/stankov/alignment/results/full/RELEASE-LAYOUT/parczech-3.0-asr-other/2018012410381052/01"
   ]
  },
  {
   "cell_type": "code",
   "execution_count": 45,
   "metadata": {},
   "outputs": [
    {
     "name": "stdout",
     "output_type": "stream",
     "text": [
      "Včera jednat o zrušení daně z nemovitosti 12 miliard ročně , vždyť je to drobotina , není problém .\n"
     ]
    }
   ],
   "source": [
    "!cat /lnet/express/work/people/stankov/alignment/results/full/RELEASE-LAYOUT/parczech-3.0-asr-other/2018012410381052/03/2018012410381052.prt"
   ]
  },
  {
   "cell_type": "code",
   "execution_count": 18,
   "metadata": {},
   "outputs": [
    {
     "name": "stdout",
     "output_type": "stream",
     "text": [
      "total 601\n",
      "drwxr-sr-x  2 kopp ufal_ext   33280 Jul  1  2024 audio-data-release-24.01\n",
      "drwxr-sr-x  9 kopp ufal_ext   41472 May 13  2024 ParCzech4.0_20240126\n",
      "drwxr-sr-x  2 kopp ufal_ext   33280 Jan 31  2024 audio-data-release-24.01-repository-urlBug\n",
      "-rw-------  1 kopp ufal_ext    7040 Jan 26  2024 nohup.out\n",
      "drwxr-sr-x  3 kopp ufal_ext   33280 Jan 26  2024 REP\n",
      "-rw-r--r--  1 kopp ufal_ext   11030 Jan 26  2024 _Makefile\n",
      "drwxr-sr-x 42 kopp ufal_ext   41472 Jan 26  2024 audio-data-to-release\n",
      "-rw-r--r--  1 kopp ufal_ext 2662420 Jan 24  2024 TMP-prepare-test-source-structure.sh\n",
      "lrwxrwxrwx  1 kopp ufal_ext      43 Jan 23  2024 audio-data-source -> psp.cz/mp3/original_files/www.psp.cz/eknih/\n",
      "drwxr-sr-x  2 kopp ufal_ext   33280 Jan 23  2024 audio-data-tar\n",
      "drwxr-sr-x  7 kopp ufal_ext   33280 Dec  5  2023 audio-alignment\n",
      "drwxr-sr-x  6 kopp ufal_ext   33280 Nov 16  2023 ParCzech4.0-sample\n",
      "drwxr-sr-x  3 kopp ufal_ext   33280 Jan 28  2021 psp.cz\n"
     ]
    }
   ],
   "source": [
    "!ls -lt /lnet/work/people/kopp/ParCzech/"
   ]
  },
  {
   "cell_type": "code",
   "execution_count": 5,
   "metadata": {},
   "outputs": [
    {
     "name": "stdout",
     "output_type": "stream",
     "text": [
      "0.12.1\n"
     ]
    }
   ],
   "source": [
    "import soundfile as sf\n",
    "print(sf.__version__)"
   ]
  },
  {
   "cell_type": "code",
   "execution_count": 13,
   "metadata": {},
   "outputs": [],
   "source": [
    "def check_mp3_header(file_path):\n",
    "    # MP3 files typically start with ID3 or with an MP3 frame sync\n",
    "    with open(file_path, 'rb') as f:\n",
    "        header = f.read(10)\n",
    "        \n",
    "        # Check for ID3v2 tag (most common)\n",
    "        if header.startswith(b'ID3'):\n",
    "            print(\"File has valid ID3v2 header\")\n",
    "            return True\n",
    "        \n",
    "        # Check for MP3 frame sync (if no ID3 tag)\n",
    "        # Valid MP3 frames start with 11 bits set to 1\n",
    "        elif header[0] == 0xFF and (header[1] & 0xE0) == 0xE0:\n",
    "            print(\"File has valid MP3 frame sync\")\n",
    "            return True\n",
    "        else:\n",
    "            print(\"No valid MP3 header found\")\n",
    "            return False"
   ]
  },
  {
   "cell_type": "code",
   "execution_count": 15,
   "metadata": {},
   "outputs": [
    {
     "name": "stdout",
     "output_type": "stream",
     "text": [
      "File size: 141 bytes\n",
      "File may be corrupted. Errors found: [mp3 @ 0x56385939a1c0] Failed to read frame size: Could not seek to 1164.\n",
      "/lnet/work/people/kopp/ParCzech/psp.cz/mp3/original_files/www.psp.cz/eknih/2017ps/audio/2021/10/05/2021100510181032.mp3: Invalid argument\n",
      "\n",
      "No valid MP3 header found\n",
      "First 1KB hexdump:\n",
      "617564696f2f7073702f323032312f31302f30352f323032313130303531303138313033322e6d70330968747470733a2f2f7777772e7073702e637a2f656b6e69682f3230313770732f617564696f2f323032312f31302f30352f323032313130303531303138313033322e6d703309617564696f5053502d323032312d51342e7461720932342e303109310a\n"
     ]
    }
   ],
   "source": [
    "import subprocess\n",
    "import os\n",
    "path = \"/lnet/work/people/kopp/ParCzech/psp.cz/mp3/original_files/www.psp.cz/eknih/2017ps/audio/2021/10/05/2021100510181032.mp3\"\n",
    "file_size = os.path.getsize(path)\n",
    "print(f\"File size: {file_size} bytes\")\n",
    "\n",
    "try:\n",
    "    result = subprocess.run(['ffmpeg', '-v', 'error', '-i', path, '-f', 'null', '-'], \n",
    "                          stderr=subprocess.PIPE,\n",
    "                          text=True)\n",
    "    if result.stderr:\n",
    "        print(\"File may be corrupted. Errors found:\", result.stderr)\n",
    "    else:\n",
    "        print(\"File appears to be valid\")\n",
    "except FileNotFoundError:\n",
    "    print(\"ffmpeg not available\")\n",
    "\n",
    "\n",
    "check_mp3_header(path)\n",
    "with open(path, 'rb') as f:\n",
    "    print(\"First 1KB hexdump:\")\n",
    "    print(f.read(1024).hex())"
   ]
  },
  {
   "cell_type": "code",
   "execution_count": 12,
   "metadata": {},
   "outputs": [
    {
     "name": "stderr",
     "output_type": "stream",
     "text": [
      "Note: Illegal Audio-MPEG-Header 0x00000000 at offset 137.\n",
      "Note: Trying to resync...\n",
      "Note: Hit end of (available) data during resync.\n"
     ]
    },
    {
     "ename": "LibsndfileError",
     "evalue": "Error opening '/lnet/work/people/kopp/ParCzech/psp.cz/mp3/original_files/www.psp.cz/eknih/2017ps/audio/2021/10/05/2021100510181032.mp3': File does not exist or is not a regular file (possibly a pipe?).",
     "output_type": "error",
     "traceback": [
      "\u001b[0;31m---------------------------------------------------------------------------\u001b[0m",
      "\u001b[0;31mLibsndfileError\u001b[0m                           Traceback (most recent call last)",
      "Cell \u001b[0;32mIn[12], line 5\u001b[0m\n\u001b[1;32m      3\u001b[0m \u001b[38;5;28;01mimport\u001b[39;00m \u001b[38;5;21;01mlibrosa\u001b[39;00m\n\u001b[1;32m      4\u001b[0m \u001b[38;5;28;01mimport\u001b[39;00m \u001b[38;5;21;01msoundfile\u001b[39;00m \u001b[38;5;28;01mas\u001b[39;00m \u001b[38;5;21;01msf\u001b[39;00m\n\u001b[0;32m----> 5\u001b[0m data, samplerate \u001b[38;5;241m=\u001b[39m \u001b[43msf\u001b[49m\u001b[38;5;241;43m.\u001b[39;49m\u001b[43mread\u001b[49m\u001b[43m(\u001b[49m\u001b[43mpath\u001b[49m\u001b[43m)\u001b[49m\n\u001b[1;32m      6\u001b[0m \u001b[38;5;66;03m# x, sr = librosa.load(path, backend='soundfile')\u001b[39;00m\n\u001b[1;32m      7\u001b[0m \n\u001b[1;32m      8\u001b[0m \u001b[38;5;66;03m# x, sr = torchaudio.load(\"/lnet/work/people/kopp/ParCzech/psp.cz/mp3/original_files/www.psp.cz/eknih/2017ps/audio/2018/06/13/2018061314481502.mp3\")\u001b[39;00m\n",
      "File \u001b[0;32m/lnet/express/work/people/stankov/miniconda3/envs/whisperx/lib/python3.10/site-packages/soundfile.py:285\u001b[0m, in \u001b[0;36mread\u001b[0;34m(file, frames, start, stop, dtype, always_2d, fill_value, out, samplerate, channels, format, subtype, endian, closefd)\u001b[0m\n\u001b[1;32m    199\u001b[0m \u001b[38;5;28;01mdef\u001b[39;00m \u001b[38;5;21mread\u001b[39m(file, frames\u001b[38;5;241m=\u001b[39m\u001b[38;5;241m-\u001b[39m\u001b[38;5;241m1\u001b[39m, start\u001b[38;5;241m=\u001b[39m\u001b[38;5;241m0\u001b[39m, stop\u001b[38;5;241m=\u001b[39m\u001b[38;5;28;01mNone\u001b[39;00m, dtype\u001b[38;5;241m=\u001b[39m\u001b[38;5;124m'\u001b[39m\u001b[38;5;124mfloat64\u001b[39m\u001b[38;5;124m'\u001b[39m, always_2d\u001b[38;5;241m=\u001b[39m\u001b[38;5;28;01mFalse\u001b[39;00m,\n\u001b[1;32m    200\u001b[0m          fill_value\u001b[38;5;241m=\u001b[39m\u001b[38;5;28;01mNone\u001b[39;00m, out\u001b[38;5;241m=\u001b[39m\u001b[38;5;28;01mNone\u001b[39;00m, samplerate\u001b[38;5;241m=\u001b[39m\u001b[38;5;28;01mNone\u001b[39;00m, channels\u001b[38;5;241m=\u001b[39m\u001b[38;5;28;01mNone\u001b[39;00m,\n\u001b[1;32m    201\u001b[0m          \u001b[38;5;28mformat\u001b[39m\u001b[38;5;241m=\u001b[39m\u001b[38;5;28;01mNone\u001b[39;00m, subtype\u001b[38;5;241m=\u001b[39m\u001b[38;5;28;01mNone\u001b[39;00m, endian\u001b[38;5;241m=\u001b[39m\u001b[38;5;28;01mNone\u001b[39;00m, closefd\u001b[38;5;241m=\u001b[39m\u001b[38;5;28;01mTrue\u001b[39;00m):\n\u001b[1;32m    202\u001b[0m \u001b[38;5;250m    \u001b[39m\u001b[38;5;124;03m\"\"\"Provide audio data from a sound file as NumPy array.\u001b[39;00m\n\u001b[1;32m    203\u001b[0m \n\u001b[1;32m    204\u001b[0m \u001b[38;5;124;03m    By default, the whole file is read from the beginning, but the\u001b[39;00m\n\u001b[0;32m   (...)\u001b[0m\n\u001b[1;32m    283\u001b[0m \n\u001b[1;32m    284\u001b[0m \u001b[38;5;124;03m    \"\"\"\u001b[39;00m\n\u001b[0;32m--> 285\u001b[0m     \u001b[38;5;28;01mwith\u001b[39;00m \u001b[43mSoundFile\u001b[49m\u001b[43m(\u001b[49m\u001b[43mfile\u001b[49m\u001b[43m,\u001b[49m\u001b[43m \u001b[49m\u001b[38;5;124;43m'\u001b[39;49m\u001b[38;5;124;43mr\u001b[39;49m\u001b[38;5;124;43m'\u001b[39;49m\u001b[43m,\u001b[49m\u001b[43m \u001b[49m\u001b[43msamplerate\u001b[49m\u001b[43m,\u001b[49m\u001b[43m \u001b[49m\u001b[43mchannels\u001b[49m\u001b[43m,\u001b[49m\n\u001b[1;32m    286\u001b[0m \u001b[43m                   \u001b[49m\u001b[43msubtype\u001b[49m\u001b[43m,\u001b[49m\u001b[43m \u001b[49m\u001b[43mendian\u001b[49m\u001b[43m,\u001b[49m\u001b[43m \u001b[49m\u001b[38;5;28;43mformat\u001b[39;49m\u001b[43m,\u001b[49m\u001b[43m \u001b[49m\u001b[43mclosefd\u001b[49m\u001b[43m)\u001b[49m \u001b[38;5;28;01mas\u001b[39;00m f:\n\u001b[1;32m    287\u001b[0m         frames \u001b[38;5;241m=\u001b[39m f\u001b[38;5;241m.\u001b[39m_prepare_read(start, stop, frames)\n\u001b[1;32m    288\u001b[0m         data \u001b[38;5;241m=\u001b[39m f\u001b[38;5;241m.\u001b[39mread(frames, dtype, always_2d, fill_value, out)\n",
      "File \u001b[0;32m/lnet/express/work/people/stankov/miniconda3/envs/whisperx/lib/python3.10/site-packages/soundfile.py:658\u001b[0m, in \u001b[0;36mSoundFile.__init__\u001b[0;34m(self, file, mode, samplerate, channels, subtype, endian, format, closefd)\u001b[0m\n\u001b[1;32m    655\u001b[0m \u001b[38;5;28mself\u001b[39m\u001b[38;5;241m.\u001b[39m_mode \u001b[38;5;241m=\u001b[39m mode\n\u001b[1;32m    656\u001b[0m \u001b[38;5;28mself\u001b[39m\u001b[38;5;241m.\u001b[39m_info \u001b[38;5;241m=\u001b[39m _create_info_struct(file, mode, samplerate, channels,\n\u001b[1;32m    657\u001b[0m                                  \u001b[38;5;28mformat\u001b[39m, subtype, endian)\n\u001b[0;32m--> 658\u001b[0m \u001b[38;5;28mself\u001b[39m\u001b[38;5;241m.\u001b[39m_file \u001b[38;5;241m=\u001b[39m \u001b[38;5;28;43mself\u001b[39;49m\u001b[38;5;241;43m.\u001b[39;49m\u001b[43m_open\u001b[49m\u001b[43m(\u001b[49m\u001b[43mfile\u001b[49m\u001b[43m,\u001b[49m\u001b[43m \u001b[49m\u001b[43mmode_int\u001b[49m\u001b[43m,\u001b[49m\u001b[43m \u001b[49m\u001b[43mclosefd\u001b[49m\u001b[43m)\u001b[49m\n\u001b[1;32m    659\u001b[0m \u001b[38;5;28;01mif\u001b[39;00m \u001b[38;5;28mset\u001b[39m(mode)\u001b[38;5;241m.\u001b[39missuperset(\u001b[38;5;124m'\u001b[39m\u001b[38;5;124mr+\u001b[39m\u001b[38;5;124m'\u001b[39m) \u001b[38;5;129;01mand\u001b[39;00m \u001b[38;5;28mself\u001b[39m\u001b[38;5;241m.\u001b[39mseekable():\n\u001b[1;32m    660\u001b[0m     \u001b[38;5;66;03m# Move write position to 0 (like in Python file objects)\u001b[39;00m\n\u001b[1;32m    661\u001b[0m     \u001b[38;5;28mself\u001b[39m\u001b[38;5;241m.\u001b[39mseek(\u001b[38;5;241m0\u001b[39m)\n",
      "File \u001b[0;32m/lnet/express/work/people/stankov/miniconda3/envs/whisperx/lib/python3.10/site-packages/soundfile.py:1216\u001b[0m, in \u001b[0;36mSoundFile._open\u001b[0;34m(self, file, mode_int, closefd)\u001b[0m\n\u001b[1;32m   1213\u001b[0m \u001b[38;5;28;01mif\u001b[39;00m file_ptr \u001b[38;5;241m==\u001b[39m _ffi\u001b[38;5;241m.\u001b[39mNULL:\n\u001b[1;32m   1214\u001b[0m     \u001b[38;5;66;03m# get the actual error code\u001b[39;00m\n\u001b[1;32m   1215\u001b[0m     err \u001b[38;5;241m=\u001b[39m _snd\u001b[38;5;241m.\u001b[39msf_error(file_ptr)\n\u001b[0;32m-> 1216\u001b[0m     \u001b[38;5;28;01mraise\u001b[39;00m LibsndfileError(err, prefix\u001b[38;5;241m=\u001b[39m\u001b[38;5;124m\"\u001b[39m\u001b[38;5;124mError opening \u001b[39m\u001b[38;5;132;01m{0!r}\u001b[39;00m\u001b[38;5;124m: \u001b[39m\u001b[38;5;124m\"\u001b[39m\u001b[38;5;241m.\u001b[39mformat(\u001b[38;5;28mself\u001b[39m\u001b[38;5;241m.\u001b[39mname))\n\u001b[1;32m   1217\u001b[0m \u001b[38;5;28;01mif\u001b[39;00m mode_int \u001b[38;5;241m==\u001b[39m _snd\u001b[38;5;241m.\u001b[39mSFM_WRITE:\n\u001b[1;32m   1218\u001b[0m     \u001b[38;5;66;03m# Due to a bug in libsndfile version <= 1.0.25, frames != 0\u001b[39;00m\n\u001b[1;32m   1219\u001b[0m     \u001b[38;5;66;03m# when opening a named pipe in SFM_WRITE mode.\u001b[39;00m\n\u001b[1;32m   1220\u001b[0m     \u001b[38;5;66;03m# See http://github.com/erikd/libsndfile/issues/77.\u001b[39;00m\n\u001b[1;32m   1221\u001b[0m     \u001b[38;5;28mself\u001b[39m\u001b[38;5;241m.\u001b[39m_info\u001b[38;5;241m.\u001b[39mframes \u001b[38;5;241m=\u001b[39m \u001b[38;5;241m0\u001b[39m\n",
      "\u001b[0;31mLibsndfileError\u001b[0m: Error opening '/lnet/work/people/kopp/ParCzech/psp.cz/mp3/original_files/www.psp.cz/eknih/2017ps/audio/2021/10/05/2021100510181032.mp3': File does not exist or is not a regular file (possibly a pipe?)."
     ]
    }
   ],
   "source": [
    "import torchaudio\n",
    "path = \"/lnet/work/people/kopp/ParCzech/psp.cz/mp3/original_files/www.psp.cz/eknih/2017ps/audio/2021/10/05/2021100510181032.mp3\"\n",
    "import librosa\n",
    "import soundfile as sf\n",
    "data, samplerate = sf.read(path)\n",
    "# x, sr = librosa.load(path, backend='soundfile')\n",
    "\n",
    "# x, sr = torchaudio.load(\"/lnet/work/people/kopp/ParCzech/psp.cz/mp3/original_files/www.psp.cz/eknih/2017ps/audio/2018/06/13/2018061314481502.mp3\")"
   ]
  },
  {
   "cell_type": "code",
   "execution_count": 16,
   "metadata": {},
   "outputs": [
    {
     "name": "stdout",
     "output_type": "stream",
     "text": [
      "Decoded content: audio/psp/2021/10/05/2021100510181032.mp3\thttps://www.psp.cz/eknih/2017ps/audio/2021/10/05/2021100510181032.mp3\taudioPSP-2021-Q4.tar\t24.01\t1\n",
      "\n"
     ]
    }
   ],
   "source": [
    "import binascii\n",
    "hex_content = \"617564696f2f7073702f323032312f31302f30352f323032313130303531303138313033322e6d70330968747470733a2f2f7777772e7073702e637a2f656b6e69682f3230313770732f617564696f2f323032312f31302f30352f323032313130303531303138313033322e6d703309617564696f5053502d323032312d51342e7461720932342e303109310a\"\n",
    "decoded = binascii.unhexlify(hex_content).decode('utf-8')\n",
    "print(\"Decoded content:\", decoded)"
   ]
  }
 ],
 "metadata": {
  "kernelspec": {
   "display_name": "whisperx",
   "language": "python",
   "name": "python3"
  },
  "language_info": {
   "codemirror_mode": {
    "name": "ipython",
    "version": 3
   },
   "file_extension": ".py",
   "mimetype": "text/x-python",
   "name": "python",
   "nbconvert_exporter": "python",
   "pygments_lexer": "ipython3",
   "version": "3.10.12"
  }
 },
 "nbformat": 4,
 "nbformat_minor": 2
}
