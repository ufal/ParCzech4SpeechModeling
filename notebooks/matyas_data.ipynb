{
 "cells": [
  {
   "cell_type": "code",
   "execution_count": 1,
   "metadata": {},
   "outputs": [],
   "source": [
    "import pandas as pd\n",
    "from pathlib import Path\n",
    "import pickle"
   ]
  },
  {
   "cell_type": "code",
   "execution_count": 2,
   "metadata": {},
   "outputs": [],
   "source": [
    "base_dir = \"/lnet/work/people/kopp/ParCzech/psp.cz/mp3/original_files/www.psp.cz/eknih/\""
   ]
  },
  {
   "cell_type": "code",
   "execution_count": 32,
   "metadata": {},
   "outputs": [
    {
     "name": "stdout",
     "output_type": "stream",
     "text": [
      "2021-04-06 09:40:19 URL:https://www.psp.cz/eknih/2017ps/audio/2021/04/01/2021040114381452.mp3 [13420416/13420416] -> \"./www.psp.cz/eknih/2017ps/audio/2021/04/01/2021040114381452.mp3\" [1]\n",
      "2021-04-06 09:40:22 URL:https://www.psp.cz/eknih/2017ps/audio/2021/04/01/2021040114481502.mp3 [13420416/13420416] -> \"./www.psp.cz/eknih/2017ps/audio/2021/04/01/2021040114481502.mp3\" [1]\n",
      "2021-04-06 09:40:25 URL:https://www.psp.cz/eknih/2017ps/audio/2021/04/01/2021040114581512.mp3 [13420416/13420416] -> \"./www.psp.cz/eknih/2017ps/audio/2021/04/01/2021040114581512.mp3\" [1]\n",
      "2021-04-06 09:40:33 URL:https://www.psp.cz/eknih/2017ps/audio/2021/04/01/2021040115081522.mp3 [13420416/13420416] -> \"./www.psp.cz/eknih/2017ps/audio/2021/04/01/2021040115081522.mp3\" [1]\n",
      "2021-04-06 09:40:35 URL:https://www.psp.cz/eknih/2017ps/audio/2021/04/01/2021040115181532.mp3 [13441152/13441152] -> \"./www.psp.cz/eknih/2017ps/audio/2021/04/01/2021040115181532.mp3\" [1]\n",
      "2021-04-06 09:40:37 URL:https://www.psp.cz/eknih/2017ps/audio/2021/04/01/2021040115281542.mp3 [13422720/13422720] -> \"./www.psp.cz/eknih/2017ps/audio/2021/04/01/2021040115281542.mp3\" [1]\n",
      "2021-04-06 09:40:41 URL:https://www.psp.cz/eknih/2017ps/audio/2021/04/01/2021040115381552.mp3 [13420416/13420416] -> \"./www.psp.cz/eknih/2017ps/audio/2021/04/01/2021040115381552.mp3\" [1]\n",
      "FINISHED --2021-04-06 09:40:41--\n",
      "Total wall clock time: 4m 41s\n",
      "Downloaded: 33 files, 422M in 1m 48s (3,91 MB/s)\n"
     ]
    }
   ],
   "source": [
    "!tail /lnet/work/people/kopp/ParCzech/psp.cz/mp3/original_files/20210401T162255.audio_urls.sh.log"
   ]
  },
  {
   "cell_type": "code",
   "execution_count": 25,
   "metadata": {},
   "outputs": [
    {
     "name": "stdout",
     "output_type": "stream",
     "text": [
      "total 2104\n",
      "lrwxrwxrwx 1 kopp ufal_ext      43 Jan 23  2024 eknih -> psp.cz/mp3/original_files/www.psp.cz/eknih/\n",
      "lrwxrwxrwx 1 kopp ufal_ext      17 Jan 23  2024 audio-data-source -> audio-data-source\n",
      "drwxrwxr-x 3 kopp ufal_ext   33280 Sep 25  2023 www.psp.cz\n",
      "-rwxr-xr-x 1 kopp ufal_ext  911509 Sep 25  2023 20230821T095951-DIFF.audio_urls.sh\n",
      "-rw-r--r-- 1 kopp ufal_ext   19758 Sep 25  2023 20230821T095951.audio_urls.sh.log\n",
      "-rwxr-xr-x 1 kopp ufal_ext 2860148 Sep 25  2023 20230821T095951.audio_urls.sh\n",
      "-rw-r--r-- 1 kopp ufal_ext    6283 Apr  6  2021 20210401T162255.audio_urls.sh.log\n",
      "-rwxr-xr-x 1 kopp ufal_ext 2193123 Apr  1  2021 20210401T162255.audio_urls.sh\n",
      "-rw-r--r-- 1 kopp ufal_ext  101843 Apr  1  2021 20210330T120629.audio_urls.sh.log\n",
      "-rwxr-xr-x 1 kopp ufal_ext 2193678 Mar 30  2021 20210330T120629.audio_urls.sh\n",
      "-rw-r--r-- 1 kopp ufal_ext   22930 Feb 23  2021 20210222T123441.audio_urls.sh.log\n",
      "-rwxr-xr-x 1 kopp ufal_ext 2141357 Feb 23  2021 20210222T123441.audio_urls.sh\n",
      "-rw-r--r-- 1 kopp ufal_ext       0 Feb 17  2021 20210216T203601.audio_urls.sh.log\n",
      "-rwxr-xr-x 1 kopp ufal_ext 2126630 Feb 17  2021 20210216T203601.audio_urls.sh\n",
      "-rw-r--r-- 1 kopp ufal_ext  261844 Feb 16  2021 20210215T114650.audio_urls.sh.log\n",
      "-rw------- 1 kopp ufal_ext       0 Feb 16  2021 nohup.out\n",
      "-rwxr-xr-x 1 kopp ufal_ext 2123503 Feb 16  2021 20210215T114650.audio_urls.sh\n",
      "-rw-r--r-- 1 kopp ufal_ext   48461 Nov 14  2020 mp3_links.404\n",
      "-rw-r--r-- 1 kopp ufal_ext 1040270 Feb 19  2020 mp3_links\n",
      "-rw-r--r-- 1 kopp ufal_ext      71 Feb 18  2020 download_command.sh\n"
     ]
    }
   ],
   "source": [
    "!ls -lt /lnet/work/people/kopp/ParCzech/psp.cz/mp3/original_files"
   ]
  },
  {
   "cell_type": "code",
   "execution_count": 4,
   "metadata": {},
   "outputs": [
    {
     "name": "stdout",
     "output_type": "stream",
     "text": [
      "# Popis dat\n",
      "\n",
      "## Soubory\n",
      "`-rw-r--r-- 1 kopp ufal_ext 37M lis 20 08:24 /net/work/people/kopp/psp.cz/vo2017_2019-11-20_0748.yml`\n",
      "obsahuje volební období 2017 k 2019-11-20_0748\n",
      "\n",
      "`-rw-r--r-- 1 kopp ufal_ext 613M kvě 23 10:08 /net/work/people/kopp/psp.cz/1993-2019_2019-04-18_0949.yml`\n",
      "obsahuje všechna volební období od roku 1993 k 2019-04-18_0949\n",
      "\n",
      "\n",
      "## Datová struktura\n",
      "\n",
      "Soubory obsahují YAML stream, kde jednotlivé záznamy jsou několika typů:\n",
      "\n",
      "### speech - promluvy poslanců\n",
      "\n",
      "Položky záznamů:\n",
      "\n",
      "* **type = speech**\n",
      "* **id** - jednoznačný identifikátor záznamu s prefixem `sp-`\n",
      "* **author** - řečník\n",
      "* **authorized** - promluva občas bývá ve stavu neautorizován, protože neprošel jazykovou korekturou, nebo nějaký vedoucí schvaluje, to co stenografky přepsaly.\n",
      "* **content** - text promluvy, zatím ve formě zjednodušeného html, obsahuje odstavce a odkazy na hlasovíní a sněmovní tisky\n",
      "* **date** - pokus o co mejpřesnější datum\n",
      "* **link** - odkaz na zdroj\n",
      "* **mp3** - odkazy na zvukové záznamy. Některé promluvy jsou dlouhé, proto mohou být ve více záznamech. Pokud je uvedeno více mp3 souborů, tak to neznamená, že se část promluvy vyskytne ve všech. mp3 záznamy mají cca 2 minuty přesah, proto nelze přesně určit, kde promluva začíná/končí.\n",
      "* **ord** pořadí výstupu v rámci jedné schůze\n",
      "* **prints** identifikátory záznamů sněmovních textů, na které se v promluvách vyskytuje odkaz\n",
      "* **voting** identifikátory záznamů hlasování, na které se v promluvách vyskytuje odkaz\n",
      "* **source** jméno skriptu, který provedl vyscrapování (dočasné)\n",
      "\n",
      "### votes - hlasování poslanců\n",
      "\n",
      "Položky záznamu:\n",
      "\n",
      "* **type = votes**\n",
      "* **id** - jednoznačný identifikátor záznamu s prefixem `vt-`, na tento identifikátor se odkazuje ze záznamů typu speech\n",
      "* **link** - odkaz na zdroj\n",
      "* **date** - pokus o co mejpřesnější datum\n",
      "* **voting** - výsledky hlasování, obsahuje seznam stran a každá strana seznam jmen poslanců s hodnotou Ano/Ne/Nepřihlášen/Omluven\n",
      "* **source** jméno skriptu, který provedl vyscrapování (dočasné)\n",
      "\n",
      "\n",
      "### print\n",
      "\n",
      "Nejedná se o vlastní dokument, ten je uložen v záznamu typu `doc`. Jedná se o záznam procesu, který s tiskem provádí a o odkazy na navázané dokumenty (vyjádření výborů)\n",
      "\n",
      "Položky záznamu:\n",
      "\n",
      "* **type = votes**\n",
      "* **id** - jednoznačný identifikátor záznamu s prefixem `pr-`, na tento identifikátor se odkazuje ze záznamů typu speech\n",
      "* **author** - autor/autoři(skupina poslanců) sněmovního tisku (občas není, například u mezinárodních smluv)\n",
      "* **link** - odkaz na zdroj\n",
      "* **date** - pokus o co mejpřesnější datum\n",
      "* **printid** - identifikátor primárního dokumentu - to čemu se říká sněmovní tisk a rozesílá se poslancům\n",
      "* **sections** - obsahuje seznam sekcí, ty obsahují content (nějaký asi strojově vygenerovaný text), navíc mohou obsahovat identifikátor dalších dokumentů.\n",
      "* **source** jméno skriptu, který provedl vyscrapování (dočasné)\n",
      "\n",
      "#### sections\n",
      "\n",
      "V datech jsou obsaženy tyto sekce: *st-gv-a-VL, st-gv-b-Sb, st-gv-b-VL, st-pr-a-P, st-ps-a-1, st-ps-a-2, st-ps-a-2-0, st-ps-a-2-1, st-ps-a-3, st-ps-a-Č, st-ps-a-G-0, st-ps-a-G-1, st-ps-a-G-2, st-ps-a-L, st-ps-a-O, st-ps-a-P, st-ps-a-PS, st-ps-a-V, st-ps-a-V-0, st-ps-a-V-1, st-ps-a-V-10, st-ps-a-V-2, st-ps-a-V-3, st-ps-a-V-4, st-ps-a-V-5, st-ps-a-V-6, st-ps-a-V-7, st-ps-a-V-8, st-ps-a-V-9, st-ps-b-PS, st-ps-b-PS-0, st-ps-b-V, st-ps-c-PS, st-ps-d-PS, st-ps-f-PS, st-se-a-O, st-se-a-PS, st-se-a-S, st-se-a-V-0, st-se-a-V-1, st-se-a-V-2, st-se-a-V-3, st-se-a-V-4, st-se-a-V-5, st-sx-a-O, st-sx-a-PS, st-sx-a-S, st-sx-a-V-0, st-sx-a-V-1, st-sx-a-V-10, st-sx-a-V-11, st-sx-a-V-2, st-sx-a-V-3, st-sx-a-V-4, st-sx-a-V-5, st-sx-a-V-6, st-sx-a-V-7, st-sx-a-V-8, st-sx-a-V-9, st-xx-a, st-xy-a*\n",
      "\n",
      "Názvy sekcí jsou vytaženy z atributu id v html. Hodnota atributu id mírně vystihují fázi v legislativním procesu. Vysvětlení legislativních procesů: [zákony](https://www.psp.cz/sqw/hp.sqw?k=331), [mezinárodní smlouvy](https://www.psp.cz/sqw/hp.sqw?k=332)\n",
      "\n",
      "\n",
      "### doc\n",
      "Položky záznamu:\n",
      "\n",
      "* **type = doc**\n",
      "* **id** - jednoznačný identifikátor záznamu s prefixem `dc-`, na tento identifikátor se odkazuje ze záznamů typu speech\n",
      "* **document** - informace o dokumentu - typ, url, počet stránek, velikost\n",
      "* **link** - odkaz na zdroj\n",
      "* **date** - pokus o co mejpřesnější datum\n",
      "* **title** - titulek dokumentu\n",
      "* **source** jméno skriptu, který provedl vyscrapování (dočasné)\n",
      "\n",
      "\n",
      "# Software\n",
      "\n",
      "Scrappoval jsem to nástrojem, který jsem používal ve firmě YESETER s Pepou Tomanem. Od jednatele firmy mám svolení nástroj používat pro vlastní potřebu a interní potřebu úfalu, takže zdrojové kódy nechci zveřejňovat, ale používat je můžeme.\n",
      "\n",
      "\n",
      "\n",
      "\n",
      "# zdroje dat\n",
      "\n",
      "Opendata: https://www.psp.cz/sqw/hp.sqw?k=1300 tato stránka neobsahuje stenozáznamy, ale šly by využít identifikátory poslanců a hlasování.\n",
      "\n",
      "Zip soubory se aktualizují každý den:\n",
      "\n",
      " 1. poslanci https://www.psp.cz/eknih/cdrom/opendata/poslanci.zip\n",
      " 2. hlasování volební období 2017 https://www.psp.cz/eknih/cdrom/opendata/hl-2017ps.zip\n",
      " 3. steno https://www.psp.cz/eknih/cdrom/opendata/steno.zip\n",
      " 4. tisky https://www.psp.cz/eknih/cdrom/opendata/tisky.zip\n",
      " 5. interpelace https://www.psp.cz/eknih/cdrom/opendata/interp.zip\n",
      "\n",
      "Šlo by použít pro vylepšení scrapování - lepší prolinkování interpelací a pod.\n",
      "\n",
      "# literatura\n",
      "\n",
      "https://schema.org/docs/full.html\n",
      "\n",
      "VAN AGGELEN, Astrid, et al. The debates of the european parliament as linked open data. Semantic Web, 2017, 8.2: 271-281. http://www.semantic-web-journal.net/system/files/swj1300.pdf\n",
      "sparql endpoint: https://linkedpolitics.project.cwi.nl/yasgui/index.html\n",
      "příklad záznamu: https://linkedpolitics.project.cwi.nl/browse/list_resource?r=http%3A//purl.org/linkedpolitics/eu/plenary/2005-04-12-Speech-2-357\n",
      "\n",
      "PREFIX rdf: <http://www.w3.org/1999/02/22-rdf-syntax-ns#>\n",
      "PREFIX rdfs: <http://www.w3.org/2000/01/rdf-schema#>\n",
      "SELECT DISTINCT ?name ?text\n",
      "WHERE {\n",
      "?speech lpv:text ?text.\n",
      "?speech lpv:speaker ?speaker.\n",
      "?speaker lpv:name ?name.\n",
      "?speaker lpv:countryOfRepresentation lp:EUCountry_CZ.\n",
      "FILTER ( langMatches(lang(?text), \"en\") )\n",
      "}\n",
      "\n",
      "\n",
      "PREFIX rdf: <http://www.w3.org/1999/02/22-rdf-syntax-ns#>\n",
      "PREFIX rdfs: <http://www.w3.org/2000/01/rdf-schema#>\n",
      "SELECT ?speaker ?name (count(?speech) as ?count)\n",
      "WHERE {\n",
      "?speech lpv:speaker ?speaker.\n",
      "?speaker lpv:name ?name.\n",
      "?speaker lpv:countryOfRepresentation lp:EUCountry_CZ.\n",
      "}\n",
      "GROUP BY ?name ?speaker\n",
      "\n",
      "\n",
      "\n",
      "\n",
      "LAPPONI, Emanuele, et al. The Talk of Norway: a richly annotated corpus of the Norwegian parliament, 1998–2016. Language Resources and Evaluation, 2018, 52.3: 873-893. https://link.springer.com/content/pdf/10.1007%2Fs10579-018-9411-5.pdf\n",
      "\n",
      "MARX, Maarten, et al. From documents to data: linked data at the dutch parliament. In: Proceedings of Online Information. 2010. p. 17-22. https://pure.uva.nl/ws/files/1431523/88408_332672.pdf\n",
      "\n",
      "https://www.cambridge.org/core/services/aop-cambridge-core/content/view/F17697A2A59DE1DF359EE0A88648F6BA/S0008423916001165a.pdf/digitization_of_the_canadian_parliamentary_debates.pdf\n",
      "\n",
      "\n",
      "Linked Data Finland http://www.ldf.fi/\n",
      "7-star schema\n",
      "\n",
      "## debaty\n",
      "\n",
      "\n",
      "## zákony\n",
      "\n",
      "HYVÖNEN, Eero, et al. LawSampo: A Semantic Portal on a Linked Open Data Service for Finnish Legislation and Case Law. 2019. https://seco.cs.aalto.fi/publications/2019/hyvonen-et-al-ls.pdf https://data.finlex.fi/en/uris"
     ]
    }
   ],
   "source": [
    "!cat /lnet/work/people/kopp/ParCzech/psp.cz/README.md"
   ]
  },
  {
   "cell_type": "code",
   "execution_count": 36,
   "metadata": {},
   "outputs": [
    {
     "name": "stdout",
     "output_type": "stream",
     "text": [
      "total 125\n",
      "drwxrwxr-x+ 38 root root 41472 Feb 27 15:16 depot\n",
      "drwxrwxr-x  11 root ufal 25088 May  6  2024 work\n",
      "drwxr-xr-x   7 root root 25088 Aug 31  2022 troja\n",
      "drwxr-xr-x   6 root root 25088 Apr 10  2022 express\n",
      "drwxr-xr-x   5 root root 10752 Jul 16  2020 ms\n"
     ]
    }
   ],
   "source": [
    "!ls -lt /lnet"
   ]
  },
  {
   "cell_type": "code",
   "execution_count": 53,
   "metadata": {},
   "outputs": [
    {
     "name": "stdout",
     "output_type": "stream",
     "text": [
      "total 34\n",
      "lrwxrwxrwx 1 kopp ufal_ext 84 Jan 26  2024 09 -> ../../../../../../psp.cz/mp3/original_files/www.psp.cz/eknih/2017ps/audio/2019/07/09\n",
      "lrwxrwxrwx 1 kopp ufal_ext 84 Jan 26  2024 10 -> ../../../../../../psp.cz/mp3/original_files/www.psp.cz/eknih/2017ps/audio/2019/07/10\n",
      "lrwxrwxrwx 1 kopp ufal_ext 84 Jan 26  2024 11 -> ../../../../../../psp.cz/mp3/original_files/www.psp.cz/eknih/2017ps/audio/2019/07/11\n",
      "lrwxrwxrwx 1 kopp ufal_ext 84 Jan 26  2024 12 -> ../../../../../../psp.cz/mp3/original_files/www.psp.cz/eknih/2017ps/audio/2019/07/12\n"
     ]
    }
   ],
   "source": [
    "!ls -lt /lnet/work/people/kopp/ParCzech/audio-data-to-release/audioPSP-2019-Q3/audio/psp/2019/07/"
   ]
  },
  {
   "cell_type": "code",
   "execution_count": 55,
   "metadata": {},
   "outputs": [
    {
     "name": "stdout",
     "output_type": "stream",
     "text": [
      "audio/psp/2019/07/09/2019070913581412.mp3\thttps://www.psp.cz/eknih/2017ps/audio/2019/07/09/2019070913581412.mp3\taudioPSP-2019-Q3.tar\t24.01\t1\n"
     ]
    }
   ],
   "source": [
    "!cat /lnet/work/people/kopp/ParCzech/psp.cz/mp3/original_files/www.psp.cz/eknih/2017ps/audio/2019/07/09/2019070913581412.mp3"
   ]
  },
  {
   "cell_type": "code",
   "execution_count": 57,
   "metadata": {},
   "outputs": [
    {
     "name": "stdout",
     "output_type": "stream",
     "text": [
      "/lnet/work/people/kopp/ParCzech/ParCzech4.0_20240126/data-release/ParCzech4.0.TEI.tar.gz\n",
      "/lnet/work/people/kopp/ParCzech/ParCzech4.0_20240126/data-release/ParCzech4.0.html.tar.gz\n",
      "/lnet/work/people/kopp/ParCzech/ParCzech4.0_20240126/data-release/ParCzech4.0.TEI.ana.tar.gz\n",
      "/lnet/work/people/kopp/ParCzech/ParCzech4.0_20240126/data-release/ParCzech4.0.schema.tar.gz\n",
      "/lnet/work/people/kopp/ParCzech/ParCzech4.0_20240126/audio-corresp-tsv-in/audio-corresp-tsv-in.tar.gz\n",
      "/lnet/work/people/kopp/ParCzech/audio-alignment/Scripts/ParCzech/src/audio-align/julius/msvc/Library_zlib/zlib-1.2.7.tar.gz\n",
      "/lnet/work/people/kopp/ParCzech/audio-alignment/Scripts/ParCzech/src/audio-align/julius/msvc/Library_PortAudio/pa_stable_v19_20071207.tar.gz\n",
      "/lnet/work/people/kopp/ParCzech/audio-alignment/Scripts/audio-align-SVN/julius/msvc/Library_PortAudio/pa_stable_v19_20071207.tar.gz\n",
      "/lnet/work/people/kopp/ParCzech/audio-alignment/Scripts/audio-align-SVN/julius/msvc/Library_zlib/zlib-1.2.7.tar.gz\n",
      "/lnet/work/people/kopp/ParCzech/audio-alignment/Data/audio-align-token.tar.gz\n"
     ]
    }
   ],
   "source": [
    "!find /lnet/work/people/kopp/ParCzech/ -iname \"*.tar.*\" 2>/dev/null"
   ]
  },
  {
   "cell_type": "code",
   "execution_count": 83,
   "metadata": {},
   "outputs": [
    {
     "name": "stdout",
     "output_type": "stream",
     "text": [
      "total 1568\n",
      "drwxrwsr-x   3 holub      ufal      33280 Feb  2  2021 BIT\n",
      "drwxrwsr-x+  3 ufal       ufal      33280 Feb 12 12:32 LLM\n",
      "drwxrwsr-x   3 mirovsky   ufal      33280 Feb  2  2021 NAKI_Dyslexie\n",
      "drwxrwsr-x   2 cinkova    ufal      33280 Feb  2  2021 NELL\n",
      "drwxrwsr-x   6 holub      ufal      33280 Feb  2  2021 NLI\n",
      "drwxrwsr-x   2 hajicj     ufal      33280 Jun 12  2023 OmniOMR\n",
      "drwxr-sr-x   7 mirovsky   ufal      33280 Feb  9  2021 PDT-C\n",
      "drwxrwsr-x   4 fucikova   ufal      33280 Feb  2  2021 PDT-Vallex\n",
      "drwxrwsr-x   5 fucikova   ufal      33280 Nov  7 14:34 SynSemClassHierarchy-github\n",
      "drwxrwsr-x   5 fucikova   ufal      33280 Nov  6 15:02 SynSemClass_multi-github\n",
      "drwxrwsrwx  13 musil      ufal      33280 Jan 23  2024 URUwork\n",
      "drwxrwsr-x  13 cinkova    ufal      41472 Feb  2  2021 WIKINET_CS\n",
      "drwxr-sr-x   3 mirovsky   ufal      33280 Feb  2  2021 anaphoricity\n",
      "drwxrwsr-x  16 lutsai     ufal_ext  41472 Feb 21 16:00 atrium\n",
      "drwxrwsr-x   4 mnovak     ufal      33280 May 31  2021 bergamot\n",
      "drwxr-sr-x   5 zeman      ufal      33280 Jan 10  2023 cltt\n",
      "drwxrwsr-x  10 stepanek   ufal      41472 Feb  2  2021 conll\n",
      "drwxrwsr-x   4 zeman      ufal      33280 Dec  1  2022 conllu\n",
      "drwxrwsr-x  18 zeman      ufal      33280 Feb 28 01:11 corefud\n",
      "drwxr-sr-x   3 popel      ufal      33280 Feb  4 13:28 czdemos4ai\n",
      "drwxr-sr-x   3 popel      ufal      33280 Oct 11  2021 dramox\n",
      "drwxrwsr-x   3 mirovsky   ufal      33280 Feb  2  2021 evald\n",
      "drwxr-sr-x   4 mnovak     ufal      33280 May 16  2024 evaldio\n",
      "drwxrwsr-x   8 stepanek   ufal      33280 Feb  2  2021 fnTBL-1.1\n",
      "drwxrwsr-x   3 hajic      ufal      33280 Feb 12  2024 hplt\n",
      "drwxrwsrwx   2 hajic      ufal      33280 Feb  2  2021 iccl\n",
      "drwxrwsr-x   9 bejcek     ufal      33280 Feb  3  2021 lexemann\n",
      "drwxrwsr-x   7 bojar      ufal      33280 Dec  7  2021 moses-ufal-git-repo\n",
      "drwxrwsr-x  11 stepanek   ufal      33280 Feb  3  2021 pcedt-coref\n",
      "drwxrwsr-x  11 stepanek   ufal      41472 Feb  3  2021 pdtsc-t\n",
      "drwxrwsr-x   5 mirovsky   ufal      33280 Feb  3  2021 pdtsc20-pokus\n",
      "drwxrwsr-x  11 ufal       ufal      33280 Feb  3  2021 perl_repo\n",
      "drwxrwsr-x   4 popel      ufal      33280 Mar 14  2024 perlbrew\n",
      "drwxr-xr-x   4 mirovsky   ufal      33280 Feb  3  2021 playlang_old_-_moved_to_svn\n",
      "drwxrwsr-x   3 stepanek   ufal      33280 Feb  3  2021 pml\n",
      "drwxrwsr-x   8 stepanek   ufal      33280 Feb  3  2021 pmltq\n",
      "drwxrwsr-x   4 root       ufal      33280 Feb  3  2021 python\n",
      "drwxrws---   3 root       resq-plus 33280 Apr 23  2024 resq-plus\n",
      "drwxrwsr-x   3 zeman      ufal      33280 Feb  3  2021 sanskrit\n",
      "drwxr-sr-x   4 peterek    ufal      33280 Feb  3  2021 speech\n",
      "drwxrwsr-x   4 havelka    ufal      33280 Feb  3  2021 surface-tfa\n",
      "drwxrwsr-x  11 helcl      ufal      33280 Feb  3  2021 tacr\n",
      "drwxrwsr-x  14 kopp       ufal      33280 Feb  3  2021 tred\n",
      "drwxrwsr-x  10 zabokrtsky ufal      33280 Feb  3  2021 tred2\n",
      "drwxrwsr-x  10 hajicj     ufal      41472 Feb  3  2021 ud2vec\n",
      "drwxrwsrwx   3 zabokrtsky ufal      33280 Jan 13  2022 universal-segmentations\n",
      "drwxrwxr-x  12 stranak    ufal      33280 Feb  3  2021 wn-anotace\n"
     ]
    }
   ],
   "source": [
    "!ls -l /lnet/work/projects/"
   ]
  },
  {
   "cell_type": "code",
   "execution_count": 61,
   "metadata": {},
   "outputs": [],
   "source": [
    "for x in content:\n",
    "    if x.endswith(\".mp3\"):\n",
    "        print(x)"
   ]
  },
  {
   "cell_type": "code",
   "execution_count": 33,
   "metadata": {},
   "outputs": [
    {
     "name": "stdout",
     "output_type": "stream",
     "text": [
      "audio/psp/2021/04/01/2021040114381452.mp3\thttps://www.psp.cz/eknih/2017ps/audio/2021/04/01/2021040114381452.mp3\taudioPSP-2021-Q2.tar\t24.01\t1\n"
     ]
    }
   ],
   "source": [
    "!cat /lnet/work/people/kopp/ParCzech/psp.cz/mp3/original_files/www.psp.cz/eknih/2013ps/audio/2017/07/11/2017071113581412.mp3"
   ]
  },
  {
   "cell_type": "code",
   "execution_count": 88,
   "metadata": {},
   "outputs": [
    {
     "name": "stdout",
     "output_type": "stream",
     "text": [
      "/lnet/work/people/kopp/ParCzech\n"
     ]
    }
   ],
   "source": [
    "!realpath /net/work/people/kopp/ParCzech/"
   ]
  },
  {
   "cell_type": "code",
   "execution_count": null,
   "metadata": {},
   "outputs": [
    {
     "name": "stdout",
     "output_type": "stream",
     "text": [
      "total 1189\n",
      "-rw-r--r-- 1 kopp ufal_ext 141 Jul  1  2024 2017090513581412.mp3\n",
      "-rw-r--r-- 1 kopp ufal_ext 141 Jul  1  2024 2017090514081422.mp3\n",
      "-rw-r--r-- 1 kopp ufal_ext 141 Jul  1  2024 2017090514181432.mp3\n",
      "-rw-r--r-- 1 kopp ufal_ext 141 Jul  1  2024 2017090514281442.mp3\n",
      "-rw-r--r-- 1 kopp ufal_ext 141 Jul  1  2024 2017090514381452.mp3\n",
      "-rw-r--r-- 1 kopp ufal_ext 141 Jul  1  2024 2017090514481502.mp3\n",
      "-rw-r--r-- 1 kopp ufal_ext 141 Jul  1  2024 2017090514581512.mp3\n",
      "-rw-r--r-- 1 kopp ufal_ext 141 Jul  1  2024 2017090515081522.mp3\n",
      "-rw-r--r-- 1 kopp ufal_ext 141 Jul  1  2024 2017090515181532.mp3\n",
      "-rw-r--r-- 1 kopp ufal_ext 141 Jul  1  2024 2017090515281542.mp3\n",
      "-rw-r--r-- 1 kopp ufal_ext 141 Jul  1  2024 2017090515381552.mp3\n",
      "-rw-r--r-- 1 kopp ufal_ext 141 Jul  1  2024 2017090515481602.mp3\n",
      "-rw-r--r-- 1 kopp ufal_ext 141 Jul  1  2024 2017090515581612.mp3\n",
      "-rw-r--r-- 1 kopp ufal_ext 141 Jul  1  2024 2017090516081622.mp3\n",
      "-rw-r--r-- 1 kopp ufal_ext 141 Jul  1  2024 2017090516181632.mp3\n",
      "-rw-r--r-- 1 kopp ufal_ext 141 Jul  1  2024 2017090516281642.mp3\n",
      "-rw-r--r-- 1 kopp ufal_ext 141 Jul  1  2024 2017090516381652.mp3\n",
      "-rw-r--r-- 1 kopp ufal_ext 141 Jul  1  2024 2017090516481702.mp3\n",
      "-rw-r--r-- 1 kopp ufal_ext 141 Jul  1  2024 2017090516581712.mp3\n",
      "-rw-r--r-- 1 kopp ufal_ext 141 Jul  1  2024 2017090517081722.mp3\n",
      "-rw-r--r-- 1 kopp ufal_ext 141 Jul  1  2024 2017090517181732.mp3\n",
      "-rw-r--r-- 1 kopp ufal_ext 141 Jul  1  2024 2017090517281742.mp3\n",
      "-rw-r--r-- 1 kopp ufal_ext 141 Jul  1  2024 2017090517381752.mp3\n",
      "-rw-r--r-- 1 kopp ufal_ext 141 Jul  1  2024 2017090517481802.mp3\n",
      "-rw-r--r-- 1 kopp ufal_ext 141 Jul  1  2024 2017090517581812.mp3\n",
      "-rw-r--r-- 1 kopp ufal_ext 141 Jul  1  2024 2017090518081822.mp3\n",
      "-rw-r--r-- 1 kopp ufal_ext 141 Jul  1  2024 2017090518181832.mp3\n",
      "-rw-r--r-- 1 kopp ufal_ext 141 Jul  1  2024 2017090518281842.mp3\n",
      "-rw-r--r-- 1 kopp ufal_ext 141 Jul  1  2024 2017090518381852.mp3\n"
     ]
    }
   ],
   "source": [
    "!ls -lt {base_dir}/2013ps/audio/2017/09/05"
   ]
  },
  {
   "cell_type": "code",
   "execution_count": 12,
   "metadata": {},
   "outputs": [
    {
     "name": "stdout",
     "output_type": "stream",
     "text": [
      "audio/psp/2017/09/05/2017090513581412.mp3\thttps://www.psp.cz/eknih/2013ps/audio/2017/09/05/2017090513581412.mp3\taudioPSP-2017-Q3.tar\t24.01\t1\n"
     ]
    }
   ],
   "source": [
    "!cat {base_dir}/2013ps/audio/2017/09/05/2017090513581412.mp3"
   ]
  }
 ],
 "metadata": {
  "kernelspec": {
   "display_name": "whisperx",
   "language": "python",
   "name": "python3"
  },
  "language_info": {
   "codemirror_mode": {
    "name": "ipython",
    "version": 3
   },
   "file_extension": ".py",
   "mimetype": "text/x-python",
   "name": "python",
   "nbconvert_exporter": "python",
   "pygments_lexer": "ipython3",
   "version": "3.10.12"
  }
 },
 "nbformat": 4,
 "nbformat_minor": 2
}
